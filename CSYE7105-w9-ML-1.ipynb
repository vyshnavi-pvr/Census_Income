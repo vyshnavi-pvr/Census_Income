{
 "cells": [
  {
   "cell_type": "markdown",
   "id": "5b8867c4-1f8a-48b2-8acd-bd606df8e7d5",
   "metadata": {},
   "source": [
    "\n",
    "CSYE7105 High Performance Parallel Machine Learning and AI\n",
    "\n",
    "Instructor: Dr. Handan Liu\n",
    "\n",
    "Week 9: Example: K-fold CV (no parallel)\n"
   ]
  },
  {
   "cell_type": "code",
   "execution_count": null,
   "id": "conscious-principle",
   "metadata": {},
   "outputs": [],
   "source": [
    "from time import time\n",
    "import numpy as np\n",
    "import matplotlib.pyplot as plt\n",
    "#from multiprocessing import Pool\n",
    "from sklearn import svm"
   ]
  },
  {
   "cell_type": "raw",
   "id": "9a9b6e05-3894-42e2-a83c-7a0e5ab19c1d",
   "metadata": {},
   "source": [
    "\n",
    "K-fold CV\n"
   ]
  },
  {
   "cell_type": "code",
   "execution_count": null,
   "id": "changing-multiple",
   "metadata": {},
   "outputs": [],
   "source": [
    "test = np.loadtxt(\"optdigits.txt\", delimiter = \",\")\n",
    "X = test[:, 0:64]\n",
    "y = test[:, 64]"
   ]
  },
  {
   "cell_type": "code",
   "execution_count": null,
   "id": "wooden-curve",
   "metadata": {},
   "outputs": [],
   "source": [
    "X.shape"
   ]
  },
  {
   "cell_type": "code",
   "execution_count": null,
   "id": "numeric-trainer",
   "metadata": {},
   "outputs": [],
   "source": [
    "y.shape"
   ]
  },
  {
   "cell_type": "code",
   "execution_count": null,
   "id": "resident-clone",
   "metadata": {},
   "outputs": [],
   "source": [
    "fig = plt.figure(figsize=(8, 6))\n",
    "fig.tight_layout()\n",
    "for i in range(0, 20):\n",
    "    ax = fig.add_subplot(5, 5, i + 1)\n",
    "    ax.imshow(X[i].reshape((8,8)), cmap = \"Greys\", vmin = 0, vmax = 16)\n",
    "plt.show()"
   ]
  },
  {
   "cell_type": "code",
   "execution_count": null,
   "id": "40748bd7-d706-451d-a6c0-5092f9392825",
   "metadata": {},
   "outputs": [],
   "source": []
  },
  {
   "cell_type": "code",
   "execution_count": null,
   "id": "growing-difference",
   "metadata": {},
   "outputs": [],
   "source": [
    "def cvkfold(X, y, tuning_params, partitions, k):\n",
    "    n_tuning_params = tuning_params.shape[0] \n",
    "\n",
    "    partition = partitions[k]\n",
    "    Train = np.delete(np.arange(0, X.shape[0]), partition)\n",
    "    Test = partition   \n",
    "    X_train = X[Train, :]  \n",
    "    y_train = y[Train]\n",
    "\n",
    "    X_test = X[Test, :]\n",
    "    y_test = y[Test]\n",
    "\n",
    "    accuracies = np.zeros(n_tuning_params)\n",
    "    \n",
    "    for i in range(0, n_tuning_params):\n",
    "        svc = svm.SVC(C = tuning_params[i], kernel = \"linear\")\n",
    "        accuracies[i] = svc.fit(X_train, y_train).score(X_test, y_test)\n",
    "    \n",
    "    return accuracies"
   ]
  },
  {
   "cell_type": "code",
   "execution_count": null,
   "id": "federal-toyota",
   "metadata": {},
   "outputs": [],
   "source": [
    "K = 5\n",
    "tuning_params = np.logspace(-6, -1, 10)  # generate 10 values for tuning\n",
    "partitions = np.array_split(np.random.permutation([i for i in range(0, X.shape[0])]), K)"
   ]
  },
  {
   "cell_type": "code",
   "execution_count": null,
   "id": "forced-structure",
   "metadata": {},
   "outputs": [],
   "source": [
    "for k in range(0, K):\n",
    "    Accuracies = np.array(cvkfold(X, y, tuning_params, partitions, k))"
   ]
  },
  {
   "cell_type": "code",
   "execution_count": null,
   "id": "moral-coast",
   "metadata": {},
   "outputs": [],
   "source": [
    "CV_accuracy = np.mean(Accuracies)\n",
    "print(CV_accuracy)"
   ]
  },
  {
   "cell_type": "code",
   "execution_count": null,
   "id": "411a912b-e89d-42ba-b99a-9625ddd3efea",
   "metadata": {},
   "outputs": [],
   "source": []
  },
  {
   "cell_type": "code",
   "execution_count": null,
   "id": "instrumental-portal",
   "metadata": {},
   "outputs": [],
   "source": [
    "best_tuning_param = tuning_params[np.argmax(Accuracies)]\n",
    "print('Best tuning param %0.6f.'% best_tuning_param)"
   ]
  },
  {
   "cell_type": "code",
   "execution_count": null,
   "id": "supported-scott",
   "metadata": {},
   "outputs": [],
   "source": []
  },
  {
   "cell_type": "code",
   "execution_count": null,
   "id": "surface-possible",
   "metadata": {},
   "outputs": [],
   "source": []
  }
 ],
 "metadata": {
  "kernelspec": {
   "display_name": "Python 3 (ipykernel)",
   "language": "python",
   "name": "python3"
  },
  "language_info": {
   "codemirror_mode": {
    "name": "ipython",
    "version": 3
   },
   "file_extension": ".py",
   "mimetype": "text/x-python",
   "name": "python",
   "nbconvert_exporter": "python",
   "pygments_lexer": "ipython3",
   "version": "3.9.7"
  }
 },
 "nbformat": 4,
 "nbformat_minor": 5
}
