{
 "cells": [
  {
   "cell_type": "markdown",
   "id": "d7d433bc-0f36-44c2-8c0a-8121c5fe73d2",
   "metadata": {},
   "source": [
    "\n",
    "CSYE7105 High Performance Parallel Machine Learning and AI\n",
    "\n",
    "Instructor: Dr. Handan Liu\n",
    "\n",
    "Week 9: Parallelize machine Learning with sklearn and Dask\n"
   ]
  },
  {
   "cell_type": "code",
   "execution_count": null,
   "id": "34099c3d-068f-424e-8a92-43c366f4e78c",
   "metadata": {},
   "outputs": [],
   "source": [
    "from sklearn.utils import parallel_backend"
   ]
  },
  {
   "cell_type": "code",
   "execution_count": null,
   "id": "af77e2fd-4fca-4acd-a414-d9368d34cb3c",
   "metadata": {},
   "outputs": [],
   "source": [
    "parallel_backend"
   ]
  },
  {
   "cell_type": "code",
   "execution_count": null,
   "id": "98e3333e-7129-45cb-879c-13c09cb68a1b",
   "metadata": {},
   "outputs": [],
   "source": []
  },
  {
   "cell_type": "raw",
   "id": "9e65ce1e-94ad-4350-80ca-c96127d3dcdb",
   "metadata": {},
   "source": [
    "\n",
    "Scikit-Learn & Joblib\n"
   ]
  },
  {
   "cell_type": "code",
   "execution_count": null,
   "id": "97d7311d-862c-45a6-bf7f-50086e9fb0d1",
   "metadata": {},
   "outputs": [],
   "source": [
    "import numpy as np\n",
    "from dask.distributed import Client\n",
    "\n",
    "import joblib\n",
    "from sklearn.datasets import load_digits\n",
    "from sklearn.model_selection import RandomizedSearchCV\n",
    "from sklearn.svm import SVC"
   ]
  },
  {
   "cell_type": "code",
   "execution_count": null,
   "id": "f281bd3b-006d-4cff-9984-c2c9488a9f76",
   "metadata": {},
   "outputs": [],
   "source": [
    "digits = load_digits()"
   ]
  },
  {
   "cell_type": "code",
   "execution_count": null,
   "id": "2a79774e-f033-481a-b113-a26be3225c15",
   "metadata": {},
   "outputs": [],
   "source": [
    "param_space = {\n",
    "    'C': np.logspace(-6, 6, 13),\n",
    "    'gamma': np.logspace(-8, 8, 17),\n",
    "    'tol': np.logspace(-4, -1, 4),\n",
    "    'class_weight': [None, 'balanced'],\n",
    "}\n"
   ]
  },
  {
   "cell_type": "code",
   "execution_count": null,
   "id": "44b878a0-49c7-43ac-9e0a-b9f7d30c7afc",
   "metadata": {},
   "outputs": [],
   "source": [
    "RandomizedSearchCV"
   ]
  },
  {
   "cell_type": "raw",
   "id": "c1bb4371-8564-4362-882b-03bc1163ea98",
   "metadata": {},
   "source": [
    "\n",
    "Experiment: \n",
    "    Using 3 parallel strategies on same 8 workers (threads/processes)\n"
   ]
  },
  {
   "cell_type": "raw",
   "id": "05b7aa4e-50b7-4ef7-bf1a-10258d724b49",
   "metadata": {},
   "source": [
    "\n",
    "1) scikit-learn default parallelism: joblib loky\n"
   ]
  },
  {
   "cell_type": "code",
   "execution_count": null,
   "id": "f8973bb9-b1d1-4619-b6d5-c45c6ec05764",
   "metadata": {},
   "outputs": [],
   "source": [
    "%%timeit \n",
    "model = SVC(kernel='rbf')\n",
    "search = RandomizedSearchCV(model, param_space, cv=4, n_iter=20, n_jobs=8)  #, verbose=10\n",
    "search.fit(digits.data, digits.target)"
   ]
  },
  {
   "cell_type": "code",
   "execution_count": null,
   "id": "6bddab3a-c20c-4c66-9aa1-b333cccb0d46",
   "metadata": {},
   "outputs": [],
   "source": []
  },
  {
   "cell_type": "raw",
   "id": "cbc28d32-b054-4828-8b87-b04e3c63ecac",
   "metadata": {},
   "source": [
    "\n",
    "2) Dask distributed local cluster with threaded scheduler: 4 threads"
   ]
  },
  {
   "cell_type": "code",
   "execution_count": null,
   "id": "8db9e09e-f74f-486d-81f9-7314d148bc32",
   "metadata": {},
   "outputs": [],
   "source": [
    "client = Client(processes=False, threads_per_worker=8)             # create local cluster"
   ]
  },
  {
   "cell_type": "code",
   "execution_count": null,
   "id": "f4902260-a04e-4eaf-8830-10f3e3e101cc",
   "metadata": {},
   "outputs": [],
   "source": [
    "client"
   ]
  },
  {
   "cell_type": "code",
   "execution_count": null,
   "id": "7d5f6cab-101c-485f-a341-9cac52873970",
   "metadata": {},
   "outputs": [],
   "source": []
  },
  {
   "cell_type": "code",
   "execution_count": null,
   "id": "171ea752-3153-45b7-a7d3-6d1c546ebff3",
   "metadata": {},
   "outputs": [],
   "source": [
    "%%timeit\n",
    "model = SVC(kernel='rbf')\n",
    "search = RandomizedSearchCV(model, param_space, cv=4, n_iter=20)\n",
    "with joblib.parallel_backend('dask'):\n",
    "    search.fit(digits.data, digits.target)"
   ]
  },
  {
   "cell_type": "code",
   "execution_count": null,
   "id": "7e9c5952-87e3-4404-914e-5cc56c2c7412",
   "metadata": {},
   "outputs": [],
   "source": []
  },
  {
   "cell_type": "raw",
   "id": "3ea8ad48-62e0-4e6e-817e-c33d93f8aa38",
   "metadata": {},
   "source": [
    "\n",
    "3) Dask distributed local cluster with threaded scheduler: 2 processes with 2 threads each"
   ]
  },
  {
   "cell_type": "code",
   "execution_count": null,
   "id": "5c1472e9-6ce0-4ea6-95e4-1bcf57e9cf4d",
   "metadata": {},
   "outputs": [],
   "source": [
    "client = Client(n_workers=4, threads_per_worker=2) "
   ]
  },
  {
   "cell_type": "code",
   "execution_count": null,
   "id": "06c38081-0026-4618-9ebb-6bf566bb5f68",
   "metadata": {},
   "outputs": [],
   "source": [
    "client"
   ]
  },
  {
   "cell_type": "code",
   "execution_count": null,
   "id": "0d418f51-22d5-48f0-b83d-1aa2df3bb4f3",
   "metadata": {},
   "outputs": [],
   "source": []
  },
  {
   "cell_type": "code",
   "execution_count": null,
   "id": "862ca9a6-fb3e-4b73-ad70-d6d8d72bc0e4",
   "metadata": {},
   "outputs": [],
   "source": [
    "%%timeit\n",
    "model = SVC(kernel='rbf')\n",
    "search = RandomizedSearchCV(model, param_space, cv=4, n_iter=20)\n",
    "with joblib.parallel_backend('dask'):\n",
    "    search.fit(digits.data, digits.target)"
   ]
  },
  {
   "cell_type": "raw",
   "id": "be6cd065-4429-4790-b8e3-a8ba96e4d17f",
   "metadata": {},
   "source": []
  },
  {
   "cell_type": "raw",
   "id": "7be97d05-2594-48f1-b8b1-ba34928dbb36",
   "metadata": {},
   "source": []
  },
  {
   "cell_type": "code",
   "execution_count": null,
   "id": "f6b07c90-6d94-4884-98c5-0f99462a8747",
   "metadata": {},
   "outputs": [],
   "source": []
  }
 ],
 "metadata": {
  "kernelspec": {
   "display_name": "Python 3 (ipykernel)",
   "language": "python",
   "name": "python3"
  },
  "language_info": {
   "codemirror_mode": {
    "name": "ipython",
    "version": 3
   },
   "file_extension": ".py",
   "mimetype": "text/x-python",
   "name": "python",
   "nbconvert_exporter": "python",
   "pygments_lexer": "ipython3",
   "version": "3.9.7"
  }
 },
 "nbformat": 4,
 "nbformat_minor": 5
}
