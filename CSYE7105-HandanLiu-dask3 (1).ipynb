{
 "cells": [
  {
   "cell_type": "markdown",
   "id": "87a95a69-c7bd-46e6-abab-422a2df525b6",
   "metadata": {},
   "source": [
    "\n",
    "CSYE7105 High Performance Parallel Machine Learning and AI\n",
    "\n",
    "Instructor: Dr. Handan Liu\n",
    "\n",
    "Dask 3: Distributed Parallel\n"
   ]
  },
  {
   "cell_type": "code",
   "execution_count": null,
   "id": "659f424d-b396-48a8-aa10-d7aa74711138",
   "metadata": {},
   "outputs": [],
   "source": [
    "import dask"
   ]
  },
  {
   "cell_type": "code",
   "execution_count": null,
   "id": "2bb97eb5-ff75-4a64-af00-4b01804c5b2a",
   "metadata": {},
   "outputs": [],
   "source": [
    "from dask.distributed import Client"
   ]
  },
  {
   "cell_type": "code",
   "execution_count": null,
   "id": "d38707e4-93f1-4db2-ab26-d71b77f06896",
   "metadata": {},
   "outputs": [],
   "source": []
  },
  {
   "cell_type": "code",
   "execution_count": null,
   "id": "eecb09fd-7964-4cab-8c04-d34f74e83a8c",
   "metadata": {},
   "outputs": [],
   "source": [
    "client = Client()"
   ]
  },
  {
   "cell_type": "code",
   "execution_count": null,
   "id": "77dc272c-a163-4d25-b000-c5ee2a8ae2ff",
   "metadata": {},
   "outputs": [],
   "source": [
    "client"
   ]
  },
  {
   "cell_type": "raw",
   "id": "d80ffdb9-b762-4a5d-9963-dde426b631d6",
   "metadata": {},
   "source": []
  },
  {
   "cell_type": "code",
   "execution_count": null,
   "id": "bbaf4172-b544-41f4-8582-c9b75b62d593",
   "metadata": {},
   "outputs": [],
   "source": [
    "client.dashboard_link"
   ]
  },
  {
   "cell_type": "raw",
   "id": "07df0f8f-4fed-43b7-8b43-07dacfed52ff",
   "metadata": {},
   "source": []
  },
  {
   "cell_type": "code",
   "execution_count": null,
   "id": "83cc4a8b-c6f0-44c2-9482-7d96157356a2",
   "metadata": {},
   "outputs": [],
   "source": [
    "client = Client(threads_per_worker=1)\n",
    "client"
   ]
  },
  {
   "cell_type": "code",
   "execution_count": null,
   "id": "6be8b39f-ee06-466d-9802-cfe4da737101",
   "metadata": {},
   "outputs": [],
   "source": []
  },
  {
   "cell_type": "code",
   "execution_count": null,
   "id": "90019265-0d06-4cd3-b2ba-decfcdd891fe",
   "metadata": {},
   "outputs": [],
   "source": [
    "from dask.distributed import Client\n",
    "client = Client(n_workers=2, processes=True)\n",
    "client"
   ]
  },
  {
   "cell_type": "raw",
   "id": "b9b2cb22-6c54-478e-bec7-bb789449ba7c",
   "metadata": {},
   "source": []
  },
  {
   "cell_type": "raw",
   "id": "9488d733-8547-46c5-b80e-f925f51e0c5d",
   "metadata": {},
   "source": [
    "\n",
    "Dask Dashboard\n"
   ]
  },
  {
   "cell_type": "code",
   "execution_count": null,
   "id": "34155837-28e0-45b9-bfd2-fa72211fa82b",
   "metadata": {},
   "outputs": [],
   "source": [
    "import dask\n",
    "df = dask.datasets.timeseries()\n",
    "df"
   ]
  },
  {
   "cell_type": "code",
   "execution_count": null,
   "id": "c62fc7c2-8999-49bf-a003-f64bf8e12531",
   "metadata": {},
   "outputs": [],
   "source": []
  },
  {
   "cell_type": "code",
   "execution_count": null,
   "id": "6e4cd4e5-1143-4b49-80a4-4e8dac0c95b7",
   "metadata": {},
   "outputs": [],
   "source": [
    "from dask.distributed import Client\n",
    "client = Client(n_workers=4, threads_per_worker=1)"
   ]
  },
  {
   "cell_type": "code",
   "execution_count": null,
   "id": "bee68c8f-9500-48ed-b478-84249bb76ccd",
   "metadata": {},
   "outputs": [],
   "source": [
    "client"
   ]
  },
  {
   "cell_type": "code",
   "execution_count": null,
   "id": "ec18d7d6-3190-4ae7-984d-c60ed4884c04",
   "metadata": {},
   "outputs": [],
   "source": [
    "import dask\n",
    "df = dask.datasets.timeseries(start=\"2019-01-01\", end=\"2022-01-01\")\n",
    "df"
   ]
  },
  {
   "cell_type": "code",
   "execution_count": null,
   "id": "9178b4ea-4417-4721-a1e4-c80b2dd4b2de",
   "metadata": {},
   "outputs": [],
   "source": [
    "df = df.persist()"
   ]
  },
  {
   "cell_type": "code",
   "execution_count": null,
   "id": "5c809b69-0a72-4c43-89a4-7596697ba24d",
   "metadata": {},
   "outputs": [],
   "source": [
    "# benchmark\n",
    "df.groupby(df.name).x.mean().compute()"
   ]
  },
  {
   "cell_type": "code",
   "execution_count": null,
   "id": "f4a217ae-3720-46c0-9618-fc5712f62527",
   "metadata": {},
   "outputs": [],
   "source": [
    "# benchmark\n",
    "import dask\n",
    "from dask.distributed import performance_report\n",
    "\n",
    "with performance_report(filename=\"dask_report.html\"):\n",
    "    df = dask.datasets.timeseries(start=\"2019-01-01\", end=\"2022-01-01\")\n",
    "    df = df.persist()\n",
    "    df.groupby(df.name).x.mean().compute()"
   ]
  },
  {
   "cell_type": "code",
   "execution_count": null,
   "id": "ffa0a4e9-93d5-42b8-8586-2ce2982888f7",
   "metadata": {},
   "outputs": [],
   "source": []
  },
  {
   "cell_type": "raw",
   "id": "bee591ba-9294-413b-95b8-58db2584dcad",
   "metadata": {},
   "source": [
    "\n",
    "Dask Dashboard Information\n",
    "\n",
    "Example: Progress bars on a single-machine scheduler\n"
   ]
  },
  {
   "cell_type": "code",
   "execution_count": null,
   "id": "18d9c82f-0ad1-4571-8906-caabe4fbb277",
   "metadata": {},
   "outputs": [],
   "source": [
    "import dask.array as da\n",
    "#from dask.diagnostics import ProgressBar\n",
    "a = da.random.normal(size=(10000, 10000), chunks=(2000, 2000))\n",
    "res = a.dot(a.T).mean(axis=0)\n"
   ]
  },
  {
   "cell_type": "code",
   "execution_count": null,
   "id": "be0d64e4-b649-47cf-b733-07c9cfdd3beb",
   "metadata": {},
   "outputs": [],
   "source": []
  },
  {
   "cell_type": "code",
   "execution_count": null,
   "id": "1d1a6ae2-f65f-4065-b890-7a7e41c88d8a",
   "metadata": {},
   "outputs": [],
   "source": [
    "# Progress bar with the distributed scheduler\n",
    "from dask.distributed import Client, progress\n",
    "\n",
    "client = Client()  # use dask.distributed by default:processes=4 threads=12, memory=31.73 GiB"
   ]
  },
  {
   "cell_type": "code",
   "execution_count": null,
   "id": "6f4ab50c-2b5c-4252-84ff-a4e0a41caf82",
   "metadata": {},
   "outputs": [],
   "source": []
  },
  {
   "cell_type": "code",
   "execution_count": null,
   "id": "492f22e9-5da0-44d5-a17c-cb5ebe9a9c39",
   "metadata": {},
   "outputs": [],
   "source": [
    "client"
   ]
  },
  {
   "cell_type": "code",
   "execution_count": null,
   "id": "a8e97e39-d1f9-409b-a1bb-12eef9b3a4c0",
   "metadata": {},
   "outputs": [],
   "source": [
    "x = res.persist()  # start computation in the background\n",
    "progress(x)      # watch progress\n",
    "\n",
    "x.compute()      # convert to final result when done if desired"
   ]
  },
  {
   "cell_type": "code",
   "execution_count": null,
   "id": "085866fe-6b4b-4827-b8ee-f9a1489b917f",
   "metadata": {},
   "outputs": [],
   "source": []
  },
  {
   "cell_type": "code",
   "execution_count": null,
   "id": "86a403b3-7525-45a0-9ab0-06d33e98ce42",
   "metadata": {},
   "outputs": [],
   "source": []
  }
 ],
 "metadata": {
  "kernelspec": {
   "display_name": "Python 3 (ipykernel)",
   "language": "python",
   "name": "python3"
  },
  "language_info": {
   "codemirror_mode": {
    "name": "ipython",
    "version": 3
   },
   "file_extension": ".py",
   "mimetype": "text/x-python",
   "name": "python",
   "nbconvert_exporter": "python",
   "pygments_lexer": "ipython3",
   "version": "3.9.7"
  }
 },
 "nbformat": 4,
 "nbformat_minor": 5
}
