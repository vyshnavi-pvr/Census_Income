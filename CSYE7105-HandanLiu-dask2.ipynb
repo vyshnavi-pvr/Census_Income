{
 "cells": [
  {
   "cell_type": "markdown",
   "id": "f2095cda-6bdd-43ef-8fd6-d6724da1eb57",
   "metadata": {},
   "source": [
    "\n",
    "CSYE7105 High Performance Parallel Machine Learning and AI\n",
    "\n",
    "Instructor: Dr. Handan Liu\n",
    "\n",
    "Dask 2: Arrays in Parallel\n"
   ]
  },
  {
   "cell_type": "raw",
   "id": "2575b0cf-8e6d-4eca-abb4-8d9d3f805186",
   "metadata": {},
   "source": [
    "\n",
    "Scheduling\n"
   ]
  },
  {
   "cell_type": "code",
   "execution_count": null,
   "id": "86fd595a-34f6-4d9c-af9a-1bd1966d9491",
   "metadata": {},
   "outputs": [],
   "source": [
    "import numpy as np\n",
    "import dask\n",
    "import dask.array as da"
   ]
  },
  {
   "cell_type": "raw",
   "id": "d269436e-479f-4c31-bf35-b89cf823acf0",
   "metadata": {},
   "source": [
    "Local Threads"
   ]
  },
  {
   "cell_type": "code",
   "execution_count": null,
   "id": "656b416f-3523-4772-bb6f-6afe61a7709f",
   "metadata": {},
   "outputs": [],
   "source": [
    "# Local Threads\n",
    "dask.config.set(scheduler='threads')  # overwrite default with threaded scheduler"
   ]
  },
  {
   "cell_type": "code",
   "execution_count": null,
   "id": "14f7d494-1007-49ca-8566-410065a0dacc",
   "metadata": {},
   "outputs": [],
   "source": []
  },
  {
   "cell_type": "code",
   "execution_count": null,
   "id": "868ed564-2813-4bb9-b2ab-c957f6e28549",
   "metadata": {},
   "outputs": [],
   "source": [
    "dask.config.set(scheduler='processes')  # overwrite default with multiprocessing scheduler"
   ]
  },
  {
   "cell_type": "code",
   "execution_count": null,
   "id": "8adf618e-127a-450d-982a-93bd5109da4a",
   "metadata": {},
   "outputs": [],
   "source": []
  },
  {
   "cell_type": "raw",
   "id": "e483bf7c-cba6-4246-b8fa-26d526518440",
   "metadata": {},
   "source": [
    "\n",
    "The compute function\n"
   ]
  },
  {
   "cell_type": "code",
   "execution_count": null,
   "id": "827eea59-c162-41c2-a367-e8efb87c89a6",
   "metadata": {},
   "outputs": [],
   "source": [
    "x = da.arange(100, chunks=10)\n",
    "x"
   ]
  },
  {
   "cell_type": "code",
   "execution_count": null,
   "id": "6021b2b9-c1fb-486d-a417-b50c8763daa9",
   "metadata": {},
   "outputs": [],
   "source": [
    "y = (x + 1).sum()\n",
    "z = (x + 1).mean()\n",
    "da.compute(y, z)    "
   ]
  },
  {
   "cell_type": "code",
   "execution_count": null,
   "id": "c37c962f-29f3-4326-92ae-10547eff4564",
   "metadata": {},
   "outputs": [],
   "source": []
  },
  {
   "cell_type": "code",
   "execution_count": null,
   "id": "6a7d60dc-3e51-4a37-a78e-5240e272807a",
   "metadata": {},
   "outputs": [],
   "source": [
    "x.sum().compute()"
   ]
  },
  {
   "cell_type": "raw",
   "id": "241279a1-5adf-43e1-8f21-e18d22a6accd",
   "metadata": {},
   "source": []
  },
  {
   "cell_type": "code",
   "execution_count": null,
   "id": "45da75be-79ef-4e44-beab-823a87dd2e6c",
   "metadata": {},
   "outputs": [],
   "source": [
    "%timeit x.sum().compute()"
   ]
  },
  {
   "cell_type": "code",
   "execution_count": null,
   "id": "855018c8-0bc2-4ff9-8ea6-081eb76949c8",
   "metadata": {},
   "outputs": [],
   "source": [
    "%timeit x.sum().compute(scheduler='processes')"
   ]
  },
  {
   "cell_type": "code",
   "execution_count": null,
   "id": "15ad507d-abf2-4567-8cb3-6650938fc4ca",
   "metadata": {},
   "outputs": [],
   "source": [
    "# set globally\n",
    "dask.config.set(scheduler='processes')\n",
    "x.sum().compute()"
   ]
  },
  {
   "cell_type": "raw",
   "id": "f5393a33-be24-4912-8156-e61977134832",
   "metadata": {},
   "source": []
  },
  {
   "cell_type": "code",
   "execution_count": null,
   "id": "f8069566-f72d-47bf-bbeb-e0b5eb120823",
   "metadata": {},
   "outputs": [],
   "source": [
    "%timeit x.compute(num_workers=4)"
   ]
  },
  {
   "cell_type": "code",
   "execution_count": null,
   "id": "f99b63a9-52de-4c54-8191-ac80c7ea858f",
   "metadata": {},
   "outputs": [],
   "source": [
    "%timeit x.compute(scheduler='threads', num_workers=4)"
   ]
  },
  {
   "cell_type": "code",
   "execution_count": null,
   "id": "56bf98d5-6c7e-4b20-a19b-67f9529d1e48",
   "metadata": {},
   "outputs": [],
   "source": []
  },
  {
   "cell_type": "code",
   "execution_count": null,
   "id": "43ba989f-134f-45a1-8a64-3c74f733698b",
   "metadata": {},
   "outputs": [],
   "source": []
  },
  {
   "cell_type": "code",
   "execution_count": null,
   "id": "6d53c701-a62f-4dbb-93f7-5d44d9545e27",
   "metadata": {},
   "outputs": [],
   "source": []
  }
 ],
 "metadata": {
  "kernelspec": {
   "display_name": "Python 3 (ipykernel)",
   "language": "python",
   "name": "python3"
  },
  "language_info": {
   "codemirror_mode": {
    "name": "ipython",
    "version": 3
   },
   "file_extension": ".py",
   "mimetype": "text/x-python",
   "name": "python",
   "nbconvert_exporter": "python",
   "pygments_lexer": "ipython3",
   "version": "3.9.7"
  }
 },
 "nbformat": 4,
 "nbformat_minor": 5
}
